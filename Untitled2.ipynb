{
 "cells": [
  {
   "cell_type": "code",
   "execution_count": 30,
   "metadata": {},
   "outputs": [
    {
     "name": "stdout",
     "output_type": "stream",
     "text": [
      "{'Name': 'Milan', 'Cast': 'Giri', 'Country': 'Nepal', 'Degree': 'BCS', 'College': 'EPSI'}\n"
     ]
    }
   ],
   "source": [
    "dict_1={\n",
    "    'Name':'Milan',\n",
    "    'Cast':'Giri',\n",
    "    'Country':'Nepal',\n",
    "    'Degree':'BCS',\n",
    "    'College':'EPSI'\n",
    "}\n",
    "z=dict_1.copy()\n",
    "print(z)\n",
    "\n"
   ]
  },
  {
   "cell_type": "code",
   "execution_count": 14,
   "metadata": {},
   "outputs": [
    {
     "name": "stdout",
     "output_type": "stream",
     "text": [
      "{'Ram': 'God', 'Shiva': 'God', 'Hari': 'God'}\n"
     ]
    }
   ],
   "source": [
    "a=('Ram','Shiva','Hari')\n",
    "b=('God')\n",
    "z=dict.fromkeys(a,b)\n",
    "print(z)"
   ]
  },
  {
   "cell_type": "code",
   "execution_count": 31,
   "metadata": {},
   "outputs": [
    {
     "name": "stdout",
     "output_type": "stream",
     "text": [
      "{'car': 'Scorpio', 'bike': 'Duke', 'mobile': 'Oppo', 'computer': 'Dell'}\n"
     ]
    }
   ],
   "source": [
    "z=dict(car='Scorpio',bike='Duke',mobile='Oppo',computer='Dell')\n",
    "print(z)"
   ]
  },
  {
   "cell_type": "code",
   "execution_count": 32,
   "metadata": {},
   "outputs": [
    {
     "name": "stdout",
     "output_type": "stream",
     "text": [
      "{'a': {'Name': 'Ram', 'Sub': 'CS', 'Country': 'China'}, 'b': {'Name': 'Hari', 'Sub': 'BCS', 'Country': 'India'}, 'c': {'Name': 'Milan', 'Sub': 'Data science', 'Country': 'Nepal'}}\n"
     ]
    }
   ],
   "source": [
    "a={'Name':'Ram',\n",
    "   'Sub' :'CS',\n",
    "   'Country':'China'\n",
    "   }\n",
    "b={'Name':'Hari',\n",
    "   'Sub' :'BCS',\n",
    "   'Country':'India'\n",
    "   }\n",
    "c={'Name':'Milan',\n",
    "   'Sub' :'Data science',\n",
    "   'Country':'Nepal'\n",
    "   }\n",
    "dict_2={\n",
    "    'a':a,\n",
    "    'b':b,\n",
    "    'c':c\n",
    "    }\n",
    "print(dict_2)"
   ]
  },
  {
   "cell_type": "code",
   "execution_count": 33,
   "metadata": {},
   "outputs": [
    {
     "name": "stdout",
     "output_type": "stream",
     "text": [
      "Name\n",
      "Cast\n",
      "Country\n",
      "Degree\n",
      "College\n"
     ]
    }
   ],
   "source": [
    "dict_1={\n",
    "    'Name':'Milan',\n",
    "    'Cast':'Giri',\n",
    "    'Country':'Nepal',\n",
    "    'Degree':'BCS',\n",
    "    'College':'EPSI'\n",
    "}\n",
    "for x in dict_1:\n",
    "    print(x)"
   ]
  },
  {
   "cell_type": "code",
   "execution_count": 34,
   "metadata": {},
   "outputs": [
    {
     "name": "stdout",
     "output_type": "stream",
     "text": [
      "Milan\n",
      "Giri\n",
      "Nepal\n",
      "BCS\n",
      "EPSI\n"
     ]
    }
   ],
   "source": [
    "dict_1={\n",
    "    'Name':'Milan',\n",
    "    'Cast':'Giri',\n",
    "    'Country':'Nepal',\n",
    "    'Degree':'BCS',\n",
    "    'College':'EPSI'\n",
    "}\n",
    "for x in dict_1:\n",
    "    print(dict_1[x])"
   ]
  },
  {
   "cell_type": "code",
   "execution_count": 35,
   "metadata": {},
   "outputs": [
    {
     "name": "stdout",
     "output_type": "stream",
     "text": [
      "Milan\n",
      "Giri\n",
      "Nepal\n",
      "BCS\n",
      "EPSI\n"
     ]
    }
   ],
   "source": [
    "dict_1={\n",
    "    'Name':'Milan',\n",
    "    'Cast':'Giri',\n",
    "    'Country':'Nepal',\n",
    "    'Degree':'BCS',\n",
    "    'College':'EPSI'\n",
    "}\n",
    "for x in dict_1.values():\n",
    "    print(x)"
   ]
  },
  {
   "cell_type": "code",
   "execution_count": 36,
   "metadata": {},
   "outputs": [
    {
     "name": "stdout",
     "output_type": "stream",
     "text": [
      "Name Milan\n",
      "Cast Giri\n",
      "Country Nepal\n",
      "Degree BCS\n",
      "College EPSI\n"
     ]
    }
   ],
   "source": [
    "dict_1={\n",
    "    'Name':'Milan',\n",
    "    'Cast':'Giri',\n",
    "    'Country':'Nepal',\n",
    "    'Degree':'BCS',\n",
    "    'College':'EPSI'\n",
    "}\n",
    "for a,b in dict_1.items():\n",
    "    print(a,b)"
   ]
  },
  {
   "cell_type": "code",
   "execution_count": 37,
   "metadata": {},
   "outputs": [
    {
     "name": "stdout",
     "output_type": "stream",
     "text": [
      "{'Name': 'Milan', 'Cast': 'Giri', 'Country': 'Nepal', 'Degree': 'Data science', 'College': 'EPSI'}\n"
     ]
    }
   ],
   "source": [
    "dict_1={\n",
    "    'Name':'Milan',\n",
    "    'Cast':'Giri',\n",
    "    'Country':'Nepal',\n",
    "    'Degree':'BCS',\n",
    "    'College':'EPSI'\n",
    "}\n",
    "dict_1['Degree']='Data science'\n",
    "print(dict_1)"
   ]
  },
  {
   "cell_type": "code",
   "execution_count": 40,
   "metadata": {},
   "outputs": [
    {
     "name": "stdout",
     "output_type": "stream",
     "text": [
      "Giri\n"
     ]
    }
   ],
   "source": [
    "dict_1={\n",
    "    'Name':'Milan',\n",
    "    'Cast':'Giri',\n",
    "    'Country':'Nepal',\n",
    "    'Degree':'BCS',\n",
    "    'College':'EPSI'\n",
    "}\n",
    "print(dict_1['Cast'])"
   ]
  },
  {
   "cell_type": "code",
   "execution_count": 41,
   "metadata": {},
   "outputs": [
    {
     "data": {
      "text/plain": [
       "'EPSI'"
      ]
     },
     "execution_count": 41,
     "metadata": {},
     "output_type": "execute_result"
    }
   ],
   "source": [
    "dict_1={\n",
    "    'Name':'Milan',\n",
    "    'Cast':'Giri',\n",
    "    'Country':'Nepal',\n",
    "    'Degree':'BCS',\n",
    "    'College':'EPSI'\n",
    "}\n",
    "dict_1.get('College')"
   ]
  },
  {
   "cell_type": "code",
   "execution_count": 42,
   "metadata": {},
   "outputs": [
    {
     "name": "stdout",
     "output_type": "stream",
     "text": [
      "{'Sport': 'Cricket', 'Vehicle': 'Car', 'Place': 'Tulsipur', 'Degree': 'Data Science'}\n"
     ]
    }
   ],
   "source": [
    "dict_2=dict(Sport='Cricket',Vehicle='Car',Place='Tulsipur',Degree='Data Science')\n",
    "print(dict_2)"
   ]
  },
  {
   "cell_type": "code",
   "execution_count": 49,
   "metadata": {},
   "outputs": [
    {
     "name": "stdout",
     "output_type": "stream",
     "text": [
      "sorry!!!\n"
     ]
    }
   ],
   "source": [
    "dict_1={\n",
    "    'Name':'Milan',\n",
    "    'Cast':'Giri',\n",
    "    'Country':'Nepal',\n",
    "    'Degree':'BCS',\n",
    "    'College':'EPSI'\n",
    "}\n",
    "if 'ccc' in dict_1:\n",
    "    print('Got it')\n",
    "else:\n",
    "    print('sorry!!!')"
   ]
  },
  {
   "cell_type": "code",
   "execution_count": 53,
   "metadata": {},
   "outputs": [
    {
     "name": "stdout",
     "output_type": "stream",
     "text": [
      "BCS\n"
     ]
    }
   ],
   "source": [
    "dict_1={\n",
    "    'Name':'Milan',\n",
    "    'Cast':'Giri',\n",
    "    'Country':'Nepal',\n",
    "    'Degree':'BCS',\n",
    "    'College':'EPSI'\n",
    "}\n",
    "print(dict_1['Degree'])"
   ]
  },
  {
   "cell_type": "code",
   "execution_count": 54,
   "metadata": {},
   "outputs": [
    {
     "name": "stdout",
     "output_type": "stream",
     "text": [
      "{'Name': 'Milan', 'Cast': 'Giri', 'Country': 'Nepal', 'Degree': 'BCS', 'College': 'EPSI'}\n"
     ]
    }
   ],
   "source": [
    "dict_1={\n",
    "    'Name':'Milan',\n",
    "    'Cast':'Giri',\n",
    "    'Country':'Nepal',\n",
    "    'Degree':'BCS',\n",
    "    'College':'EPSI'\n",
    "}\n",
    "m=dict(dict_1)\n",
    "print(m)"
   ]
  },
  {
   "cell_type": "code",
   "execution_count": null,
   "metadata": {},
   "outputs": [],
   "source": []
  }
 ],
 "metadata": {
  "kernelspec": {
   "display_name": "Python 3",
   "language": "python",
   "name": "python3"
  },
  "language_info": {
   "codemirror_mode": {
    "name": "ipython",
    "version": 3
   },
   "file_extension": ".py",
   "mimetype": "text/x-python",
   "name": "python",
   "nbconvert_exporter": "python",
   "pygments_lexer": "ipython3",
   "version": "3.7.6"
  }
 },
 "nbformat": 4,
 "nbformat_minor": 4
}
