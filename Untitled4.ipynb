{
 "cells": [
  {
   "cell_type": "code",
   "execution_count": 9,
   "metadata": {},
   "outputs": [
    {
     "name": "stdout",
     "output_type": "stream",
     "text": [
      "Total amount is 75\n",
      "Total amount is 100\n",
      "Total amount is 125\n",
      "Total amount is 150\n"
     ]
    }
   ],
   "source": [
    "money=50\n",
    "i=0\n",
    "while i<10:\n",
    "    money=money + 25\n",
    "    \n",
    "    if money>=160:\n",
    "        break\n",
    "    print('Total amount is',money)\n",
    "    i+=1 "
   ]
  },
  {
   "cell_type": "code",
   "execution_count": 14,
   "metadata": {},
   "outputs": [
    {
     "name": "stdout",
     "output_type": "stream",
     "text": [
      "Your available amount is 450\n",
      "Your available amount is 400\n",
      "Your available amount is 350\n"
     ]
    }
   ],
   "source": [
    "money= 500\n",
    "i=0\n",
    "while(i<10):\n",
    "    \n",
    "    money= money-50\n",
    "    if money <= 300:\n",
    "        break\n",
    "    print('Your available amount is', money)\n",
    "    i+=1"
   ]
  },
  {
   "cell_type": "code",
   "execution_count": 3,
   "metadata": {},
   "outputs": [
    {
     "name": "stdout",
     "output_type": "stream",
     "text": [
      "1\n",
      "1\n",
      "3\n",
      "3\n",
      "5\n",
      "5\n",
      "7\n",
      "7\n"
     ]
    }
   ],
   "source": [
    "for x in [1,3,5,7]:\n",
    "    print(x)\n",
    "    print(x)"
   ]
  },
  {
   "cell_type": "code",
   "execution_count": 10,
   "metadata": {},
   "outputs": [
    {
     "name": "stdout",
     "output_type": "stream",
     "text": [
      "78\n"
     ]
    }
   ],
   "source": [
    "a=list(range(1,20))\n",
    "sum=0\n",
    "for x in a:\n",
    "    if x%3==0 or x%5==0:\n",
    "         sum+=x\n",
    "print(sum)"
   ]
  },
  {
   "cell_type": "code",
   "execution_count": 6,
   "metadata": {},
   "outputs": [
    {
     "name": "stdout",
     "output_type": "stream",
     "text": [
      "Your amount is 80\n",
      "Your amount is 110\n"
     ]
    }
   ],
   "source": [
    "i=0\n",
    "money=50\n",
    "while i<10:\n",
    "    money=money+30\n",
    "    i+=1\n",
    "    if money>=130:\n",
    "        break\n",
    "        \n",
    "        \n",
    "    print('Your amount is', money)"
   ]
  },
  {
   "cell_type": "code",
   "execution_count": 13,
   "metadata": {},
   "outputs": [
    {
     "name": "stdout",
     "output_type": "stream",
     "text": [
      "Your amount is: 530\n",
      "Your amount is: 560\n",
      "Your amount is: 590\n",
      "Your amount is: 620\n",
      "Your amount is: 650\n",
      "Your amount is: 680\n",
      "Your amount is: 710\n",
      "Your amount is: 740\n"
     ]
    }
   ],
   "source": [
    "i=0\n",
    "amount=500\n",
    "while True:\n",
    "    amount+=30\n",
    "    i+=1\n",
    "    if amount >=760:\n",
    "        break\n",
    "    print('Your amount is:', amount)\n",
    "    "
   ]
  },
  {
   "cell_type": "code",
   "execution_count": 14,
   "metadata": {},
   "outputs": [
    {
     "name": "stdout",
     "output_type": "stream",
     "text": [
      "Your current balance is 470\n",
      "Your current balance is 440\n",
      "Your current balance is 410\n",
      "Your current balance is 380\n",
      "Your current balance is 350\n",
      "Your current balance is 320\n",
      "Your current balance is 290\n",
      "Your current balance is 260\n"
     ]
    }
   ],
   "source": [
    "money=500\n",
    "i=1\n",
    "while True:\n",
    "    money-=30\n",
    "    i+=1\n",
    "    if money<= 250:\n",
    "        break\n",
    "    print('Your current balance is', money)"
   ]
  },
  {
   "cell_type": "code",
   "execution_count": 17,
   "metadata": {},
   "outputs": [
    {
     "name": "stdout",
     "output_type": "stream",
     "text": [
      "Your current balance is: 340\n",
      "Your current balance is: 380\n",
      "Your current balance is: 420\n",
      "Your current balance is: 460\n",
      "Your current balance is: 500\n"
     ]
    }
   ],
   "source": [
    "money=300\n",
    "i=1\n",
    "while True:\n",
    "    money+=40\n",
    "    i+=1\n",
    "    if money>= 510:\n",
    "        break\n",
    "    print('Your current balance is:',money)"
   ]
  },
  {
   "cell_type": "code",
   "execution_count": null,
   "metadata": {},
   "outputs": [],
   "source": []
  }
 ],
 "metadata": {
  "kernelspec": {
   "display_name": "Python 3",
   "language": "python",
   "name": "python3"
  },
  "language_info": {
   "codemirror_mode": {
    "name": "ipython",
    "version": 3
   },
   "file_extension": ".py",
   "mimetype": "text/x-python",
   "name": "python",
   "nbconvert_exporter": "python",
   "pygments_lexer": "ipython3",
   "version": "3.7.6"
  }
 },
 "nbformat": 4,
 "nbformat_minor": 4
}
